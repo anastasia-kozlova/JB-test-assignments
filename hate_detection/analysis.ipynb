{
 "cells": [
  {
   "cell_type": "code",
   "execution_count": null,
   "metadata": {
    "id": "QM-s2qIwA2VJ"
   },
   "outputs": [],
   "source": [
    "!pip install transformers"
   ]
  },
  {
   "cell_type": "code",
   "execution_count": 3,
   "metadata": {
    "id": "TzAjWTx6A2VR"
   },
   "outputs": [],
   "source": [
    "!pip install datasets"
   ]
  },
  {
   "cell_type": "code",
   "execution_count": 4,
   "metadata": {
    "id": "H0yF8DyKA2VS"
   },
   "outputs": [],
   "source": [
    "import datasets\n",
    "from execution import training, evaluation\n",
    "from sklearn.model_selection import train_test_split\n",
    "import matplotlib.pyplot as plt"
   ]
  },
  {
   "cell_type": "code",
   "execution_count": 6,
   "metadata": {
    "colab": {
     "base_uri": "https://localhost:8080/"
    },
    "id": "VzlaqUjuA2VT",
    "outputId": "f4cc65e5-7e52-40e5-f0cf-e9db10533857"
   },
   "outputs": [
    {
     "name": "stderr",
     "output_type": "stream",
     "text": [
      "WARNING:datasets.builder:Using custom data configuration default\n",
      "WARNING:datasets.builder:Reusing dataset tweets_hate_speech_detection (/root/.cache/huggingface/datasets/tweets_hate_speech_detection/default/0.0.0/c32a982d8b2d6233065d820ac655454174f8aaa8faddc74979cf793486acd3b0)\n"
     ]
    },
    {
     "name": "stdout",
     "output_type": "stream",
     "text": [
      "DatasetDict({\n",
      "    train: Dataset({\n",
      "        features: ['label', 'tweet'],\n",
      "        num_rows: 31962\n",
      "    })\n",
      "})\n"
     ]
    }
   ],
   "source": [
    "dataset = datasets.load_dataset('tweets_hate_speech_detection')\n",
    "print(dataset)"
   ]
  },
  {
   "cell_type": "code",
   "execution_count": 7,
   "metadata": {
    "id": "R95mVqm8A2VT"
   },
   "outputs": [],
   "source": [
    "labels = dataset['train']['label']\n",
    "tweets = dataset['train']['tweet']"
   ]
  },
  {
   "cell_type": "code",
   "execution_count": 8,
   "metadata": {
    "id": "ZtX0IWofA2VT"
   },
   "outputs": [],
   "source": [
    "tweets_train_val, tweets_test, labels_train_val, labels_test = train_test_split(tweets, labels, test_size=0.3)"
   ]
  },
  {
   "cell_type": "code",
   "execution_count": 43,
   "metadata": {
    "colab": {
     "base_uri": "https://localhost:8080/",
     "height": 468
    },
    "id": "kJjHtYTcL6sD",
    "outputId": "5b1437e4-2f42-4b56-9c8f-7fca4035d42c"
   },
   "outputs": [
    {
     "name": "stderr",
     "output_type": "stream",
     "text": [
      "INFO:numexpr.utils:NumExpr defaulting to 2 threads.\n"
     ]
    },
    {
     "name": "stdout",
     "output_type": "stream",
     "text": [
      "Max sentence length:  383\n"
     ]
    },
    {
     "data": {
      "image/png": "[encoded data removed]",
      "text/plain": [
       "<Figure size 698.4x451.44 with 1 Axes>"
      ]
     },
     "metadata": {
      "needs_background": "light",
      "tags": []
     },
     "output_type": "display_data"
    }
   ],
   "source": [
    "# Визуализация дли предложений с целью выбора максимальной длины\n",
    "import seaborn as sns\n",
    "from transformers import RobertaTokenizer\n",
    "tokenizer = RobertaTokenizer.from_pretrained(\"roberta-base\")\n",
    "\n",
    "token_lens = []\n",
    "for txt in tweets:\n",
    "    tokens = tokenizer.encode(txt)\n",
    "    token_lens.append(len(tokens))\n",
    "    \n",
    "print('Max sentence length: ', max(token_lens))\n",
    "\n",
    "sns.displot(token_lens, height=6.27, aspect=9.7/6.27)\n",
    "plt.xlim([0, 100]);\n",
    "plt.xlabel('Token count');"
   ]
  },
  {
   "cell_type": "code",
   "execution_count": 9,
   "metadata": {
    "id": "_FNGANi4A2VU"
   },
   "outputs": [],
   "source": [
    "MAX_LEN = 80\n",
    "BATCH_SIZE = 32\n",
    "EPOCHS = 3\n",
    "EVAL_STEP = 100\n",
    "FOLDER = 'roberta_result'"
   ]
  },
  {
   "cell_type": "markdown",
   "metadata": {
    "id": "tAHrJUdqA2VU"
   },
   "source": [
    "### Обучение"
   ]
  },
  {
   "cell_type": "code",
   "execution_count": 10,
   "metadata": {
    "colab": {
     "base_uri": "https://localhost:8080/"
    },
    "id": "nFIq1_RxA2VU",
    "outputId": "3e8e52cc-242b-4a39-998c-969d4e12fb4f"
   },
   "outputs": [
    {
     "name": "stderr",
     "output_type": "stream",
     "text": [
      "INFO:root:Данные для обучения обработаны\n",
      "INFO:root:Начато обучение модели\n"
     ]
    },
    {
     "name": "stdout",
     "output_type": "stream",
     "text": [
      "epoch 1/3, step 100/1470, train loss: 0.2205, valid loss: 0.1338\n",
      "epoch 1/3, step 200/1470, train loss: 0.1387, valid loss: 0.1141\n",
      "epoch 1/3, step 300/1470, train loss: 0.0975, valid loss: 0.0906\n",
      "epoch 1/3, step 400/1470, train loss: 0.1119, valid loss: 0.0917\n",
      "epoch 2/3, step 500/1470, train loss: 0.0845, valid loss: 0.0852\n",
      "epoch 2/3, step 600/1470, train loss: 0.0854, valid loss: 0.0912\n",
      "epoch 2/3, step 700/1470, train loss: 0.0668, valid loss: 0.0775\n",
      "epoch 2/3, step 800/1470, train loss: 0.0648, valid loss: 0.0764\n",
      "epoch 2/3, step 900/1470, train loss: 0.0655, valid loss: 0.0757\n",
      "epoch 3/3, step 1000/1470, train loss: 0.0628, valid loss: 0.0917\n",
      "epoch 3/3, step 1100/1470, train loss: 0.0399, valid loss: 0.0706\n",
      "epoch 3/3, step 1200/1470, train loss: 0.0438, valid loss: 0.0762\n",
      "epoch 3/3, step 1300/1470, train loss: 0.0468, valid loss: 0.0841\n",
      "epoch 3/3, step 1400/1470, train loss: 0.0452, valid loss: 0.0781\n"
     ]
    },
    {
     "name": "stderr",
     "output_type": "stream",
     "text": [
      "INFO:root:Обучение завершено\n"
     ]
    }
   ],
   "source": [
    "training(tweets=tweets_train_val, \n",
    "         labels=labels_train_val,\n",
    "         file_path=FOLDER,\n",
    "         max_len=MAX_LEN,\n",
    "         eval_step=EVAL_STEP, \n",
    "         epochs=EPOCHS, \n",
    "         batch_size=BATCH_SIZE)"
   ]
  },
  {
   "cell_type": "code",
   "execution_count": 11,
   "metadata": {
    "colab": {
     "base_uri": "https://localhost:8080/",
     "height": 279
    },
    "id": "ub3q9Km7A2VV",
    "outputId": "41fd1b96-f277-4c9f-d5ec-d38076602a64"
   },
   "outputs": [
    {
     "data": {
      "image/png": "[encoded data removed]",
      "text/plain": [
       "<Figure size 432x288 with 1 Axes>"
      ]
     },
     "metadata": {
      "needs_background": "light",
      "tags": []
     },
     "output_type": "display_data"
    }
   ],
   "source": [
    "from save_load import load_metrics\n",
    "\n",
    "train_loss_list, valid_loss_list, global_steps_list = load_metrics(FOLDER + '/metrics.pt')\n",
    "plt.plot(global_steps_list, train_loss_list, label='Train')\n",
    "plt.plot(global_steps_list, valid_loss_list, label='Valid')\n",
    "plt.xlabel('Global Steps')\n",
    "plt.ylabel('Loss')\n",
    "plt.legend()\n",
    "plt.show() "
   ]
  },
  {
   "cell_type": "markdown",
   "metadata": {
    "id": "L4-KQSCAA2VV"
   },
   "source": [
    "### Предсказание"
   ]
  },
  {
   "cell_type": "code",
   "execution_count": 12,
   "metadata": {
    "colab": {
     "base_uri": "https://localhost:8080/"
    },
    "id": "8YKEu3fQA2VV",
    "outputId": "2d2b4d65-e97c-4998-9920-79cf85f95077"
   },
   "outputs": [
    {
     "name": "stderr",
     "output_type": "stream",
     "text": [
      "INFO:root:Данные для предсказания обработаны\n",
      "INFO:root:Предсказание завершено\n"
     ]
    },
    {
     "name": "stdout",
     "output_type": "stream",
     "text": [
      "Время на всю работу: 0m 45s\n"
     ]
    }
   ],
   "source": [
    "# исходная модель\n",
    "outputs_base = evaluation(tweets=tweets_test,\n",
    "                         labels=labels_test,\n",
    "                         max_len=MAX_LEN,\n",
    "                         batch_size=BATCH_SIZE)\n",
    "\n",
    "print('Время на всю работу: {:.0f}m {:.0f}s'.format(outputs_base['all_time'] // 60, outputs_base['all_time'] % 60))\n",
    "labels_base = outputs_base['labels_true']\n",
    "pred_base = outputs_base['labels_pred']"
   ]
  },
  {
   "cell_type": "code",
   "execution_count": 13,
   "metadata": {
    "colab": {
     "base_uri": "https://localhost:8080/"
    },
    "id": "0SyupbZUA2VW",
    "outputId": "6443de56-27e0-40fa-d81c-10b11362cc3d"
   },
   "outputs": [
    {
     "name": "stderr",
     "output_type": "stream",
     "text": [
      "INFO:root:Данные для предсказания обработаны\n",
      "INFO:root:Предсказание завершено\n"
     ]
    },
    {
     "name": "stdout",
     "output_type": "stream",
     "text": [
      "Время на всю работу: 0m 44s\n"
     ]
    }
   ],
   "source": [
    "# дообученная модель\n",
    "outputs_tr = evaluation(file_path=FOLDER,\n",
    "                         tweets=tweets_test,\n",
    "                         labels=labels_test,\n",
    "                         max_len=MAX_LEN,\n",
    "                         batch_size=BATCH_SIZE)\n",
    "\n",
    "print('Время на всю работу: {:.0f}m {:.0f}s'.format(outputs_tr['all_time'] // 60, outputs_tr['all_time'] % 60))\n",
    "labels_tr = outputs_tr['labels_true']\n",
    "pred_tr = outputs_tr['labels_pred']"
   ]
  },
  {
   "cell_type": "code",
   "execution_count": 14,
   "metadata": {
    "id": "aK84IthTQyDZ"
   },
   "outputs": [],
   "source": [
    "import torch\n",
    "path = 'metrics_test.pt'\n",
    "\n",
    "def save_test(save_path, labels_true, labels_pred):\n",
    "    state_dict = {'labels_true': labels_true,\n",
    "                  'labels_pred': labels_pred}\n",
    "    torch.save(state_dict, save_path)"
   ]
  },
  {
   "cell_type": "code",
   "execution_count": 15,
   "metadata": {
    "id": "pu8D-U83Shec"
   },
   "outputs": [],
   "source": [
    "def load_test(load_path):\n",
    "    state_dict = torch.load(load_path, map_location=device)\n",
    "    return state_dict['labels_true'], state_dict['labels_pred']"
   ]
  },
  {
   "cell_type": "code",
   "execution_count": 16,
   "metadata": {
    "id": "C0VWL5lqSttC"
   },
   "outputs": [],
   "source": [
    "save_test(path, labels_tr, pred_tr)"
   ]
  },
  {
   "cell_type": "markdown",
   "metadata": {
    "id": "FXNLl-qsA2VW"
   },
   "source": [
    "### Оценка качества"
   ]
  },
  {
   "cell_type": "code",
   "execution_count": 17,
   "metadata": {
    "id": "S2_sJYtHA2VW"
   },
   "outputs": [],
   "source": [
    "from sklearn.metrics import precision_recall_curve\n",
    "from sklearn.metrics import precision_recall_fscore_support\n",
    "from sklearn.metrics import accuracy_score\n",
    "import numpy as np "
   ]
  },
  {
   "cell_type": "code",
   "execution_count": 18,
   "metadata": {
    "id": "kXtWrwuPJplg"
   },
   "outputs": [],
   "source": [
    "y_pred_base = np.argmax(pred_base, axis=1)\n",
    "y_pred_tr = np.argmax(pred_tr, axis=1)"
   ]
  },
  {
   "cell_type": "code",
   "execution_count": 19,
   "metadata": {
    "colab": {
     "base_uri": "https://localhost:8080/"
    },
    "id": "lUy581bzA2VX",
    "outputId": "29382af6-38ad-444a-949f-3ea099524f8f"
   },
   "outputs": [
    {
     "name": "stdout",
     "output_type": "stream",
     "text": [
      "Точность базовой модели на тестовой выборке составила: 97.56%\n",
      "Точность дообученной модели на тестовой выборке составила: 97.92%\n"
     ]
    }
   ],
   "source": [
    "acc_score_base = accuracy_score(labels_base, y_pred_base)\n",
    "acc_score_tr = accuracy_score(labels_tr, y_pred_tr)\n",
    "print('Точность базовой модели на тестовой выборке составила: {0:.2f}%'.format(acc_score_base*100))\n",
    "print('Точность дообученной модели на тестовой выборке составила: {0:.2f}%'.format(acc_score_tr*100))"
   ]
  },
  {
   "cell_type": "markdown",
   "metadata": {
    "id": "k3o29ndMA2VX"
   },
   "source": [
    "**Вывод**\n",
    "\n",
    "Точности на обеих моделя пратически совпадают. Дообученная модель увеличивает точность на тестовой выборке на 0.4%."
   ]
  },
  {
   "cell_type": "markdown",
   "metadata": {
    "id": "bWVIqkE1A2VX"
   },
   "source": [
    "### PR-curve"
   ]
  },
  {
   "cell_type": "code",
   "execution_count": 20,
   "metadata": {
    "id": "9i1l5m8oA2VX"
   },
   "outputs": [],
   "source": [
    "def sigmoid(x):\n",
    "    return 1 / (1 + np.exp(-x))\n",
    "\n",
    "pred_proba = sigmoid(np.array(pred_tr))[:,1]"
   ]
  },
  {
   "cell_type": "code",
   "execution_count": 21,
   "metadata": {
    "colab": {
     "base_uri": "https://localhost:8080/",
     "height": 279
    },
    "id": "mX8_19wtA2VX",
    "outputId": "0a33574a-d9f9-4a57-a39b-842abcbd6c19"
   },
   "outputs": [
    {
     "data": {
      "image/png": "[encoded data removed]",
      "text/plain": [
       "<Figure size 432x288 with 1 Axes>"
      ]
     },
     "metadata": {
      "needs_background": "light",
      "tags": []
     },
     "output_type": "display_data"
    }
   ],
   "source": [
    "precision, recall, thresholds = precision_recall_curve(labels_tr, pred_proba)\n",
    "\n",
    "fig, ax = plt.subplots()\n",
    "ax.step(recall,precision,color='r',alpha=0.99,where='post')\n",
    "ax.fill_between(recall, precision, alpha=0.2, color='b', step='post')\n",
    "plt.xlabel('Recall')\n",
    "plt.ylabel('Precision')\n",
    "plt.ylim([0.0, 1.05])\n",
    "plt.xlim([0.0, 1.0]);"
   ]
  },
  {
   "cell_type": "markdown",
   "metadata": {
    "id": "HQdHLJwQA2VY"
   },
   "source": [
    "**Вывод**\n",
    "\n",
    "Для использованного набора параметров была построена PR-кривая, которая характеризует соотношение метрик precision и recall для различных значений порога (threshold).\n",
    "\n",
    "С увеличением значения порога увеличивается precision, но падает recall.\n",
    "\n",
    "\n",
    "Так как расистские высказывания оскарбляют людей, а также разжигают конфликты, при выборе порога классификации необходимо уделять показателю Recall дополнительное внимание (вероятно лучше перестраховаться и пометить твит расистким, чем обидеть множество людей).\n",
    " "
   ]
  },
  {
   "cell_type": "markdown",
   "metadata": {
    "id": "iCJQ29Cst-78"
   },
   "source": [
    "При выборе наибольшей вероятности при распределении по классам (порог 0.5) в данной задаче precision и recall:"
   ]
  },
  {
   "cell_type": "code",
   "execution_count": 22,
   "metadata": {
    "colab": {
     "base_uri": "https://localhost:8080/"
    },
    "id": "MTgqva9rt6jO",
    "outputId": "558520ca-7884-4f06-dab1-3dce1c192a87"
   },
   "outputs": [
    {
     "name": "stdout",
     "output_type": "stream",
     "text": [
      "0.8820826952526799 0.8252148997134671\n"
     ]
    }
   ],
   "source": [
    "precis, rec, _, _ = precision_recall_fscore_support(labels_tr, y_pred_tr, average='binary')\n",
    "print(precis, rec)"
   ]
  },
  {
   "cell_type": "markdown",
   "metadata": {
    "id": "wsPuq2GvuhcL"
   },
   "source": [
    "В данном случае оба показателя являются достаточно высокими, но если мы хотим увеличить recall, например, до 0.84, то следует немного снизить threshold."
   ]
  },
  {
   "cell_type": "code",
   "execution_count": 23,
   "metadata": {
    "id": "eeROK_6PcgT9"
   },
   "outputs": [],
   "source": [
    "precision = precision[:-1]\n",
    "recall = recall[:-1] "
   ]
  },
  {
   "cell_type": "code",
   "execution_count": 24,
   "metadata": {
    "id": "gtWNIuHDsFSL"
   },
   "outputs": [],
   "source": [
    "result = np.hstack((precision.reshape(-1,1),\n",
    "                    recall.reshape(-1,1), \n",
    "                    thresholds.reshape(-1,1)))"
   ]
  },
  {
   "cell_type": "code",
   "execution_count": 37,
   "metadata": {
    "colab": {
     "base_uri": "https://localhost:8080/"
    },
    "id": "zoNtMl0YOhrT",
    "outputId": "8434f627-d9ce-4f87-f369-bd1517b533ff"
   },
   "outputs": [
    {
     "data": {
      "text/plain": [
       "array([0.86450663, 0.84097421, 0.44495356])"
      ]
     },
     "execution_count": 37,
     "metadata": {
      "tags": []
     },
     "output_type": "execute_result"
    }
   ],
   "source": [
    "# precision, recall, thresholds\n",
    "result[result[:,1] > 0.84][-1]"
   ]
  },
  {
   "cell_type": "markdown",
   "metadata": {
    "id": "XI-mV5G7vQTH"
   },
   "source": [
    "Таким образом, можно понизить threshold до 0.44."
   ]
  },
  {
   "cell_type": "code",
   "execution_count": 38,
   "metadata": {
    "id": "2XXU3xV_UVNa"
   },
   "outputs": [],
   "source": [
    "threshold = 0.44\n",
    "new_pred = (pred_proba >= threshold)*1"
   ]
  },
  {
   "cell_type": "markdown",
   "metadata": {
    "id": "j6gheKvWwEEv"
   },
   "source": [
    "precision и recall в данном случае равны:"
   ]
  },
  {
   "cell_type": "code",
   "execution_count": 39,
   "metadata": {
    "colab": {
     "base_uri": "https://localhost:8080/"
    },
    "id": "8XOolXDWlAq1",
    "outputId": "22f2456b-26d9-4ce2-b421-4851c28d23ef"
   },
   "outputs": [
    {
     "name": "stdout",
     "output_type": "stream",
     "text": [
      "0.8621700879765396 0.8424068767908309\n"
     ]
    }
   ],
   "source": [
    "precis, rec, _, _ = precision_recall_fscore_support(labels_tr, new_pred, average='binary')\n",
    "print(precis, rec)"
   ]
  },
  {
   "cell_type": "code",
   "execution_count": 40,
   "metadata": {
    "colab": {
     "base_uri": "https://localhost:8080/"
    },
    "id": "UUdb1HoBjsJa",
    "outputId": "1e0a33cd-3e60-45a4-ef47-d611bbdce8fe"
   },
   "outputs": [
    {
     "data": {
      "text/plain": [
       "0.9787256231098134"
      ]
     },
     "execution_count": 40,
     "metadata": {
      "tags": []
     },
     "output_type": "execute_result"
    }
   ],
   "source": [
    "# точность остается той же\n",
    "accuracy_score(labels_tr, new_pred)"
   ]
  },
  {
   "cell_type": "code",
   "execution_count": null,
   "metadata": {
    "id": "WKF_gk21A2VZ"
   },
   "outputs": [],
   "source": []
  }
 ],
 "metadata": {
  "accelerator": "GPU",
  "colab": {
   "collapsed_sections": [],
   "name": "analysis.ipynb",
   "provenance": []
  },
  "kernelspec": {
   "display_name": "Python 3",
   "language": "python",
   "name": "python3"
  },
  "language_info": {
   "codemirror_mode": {
    "name": "ipython",
    "version": 3
   },
   "file_extension": ".py",
   "mimetype": "text/x-python",
   "name": "python",
   "nbconvert_exporter": "python",
   "pygments_lexer": "ipython3",
   "version": "3.8.5"
  }
 },
 "nbformat": 4,
 "nbformat_minor": 1
}
